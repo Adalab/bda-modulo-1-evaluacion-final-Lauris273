{
 "cells": [
  {
   "cell_type": "markdown",
   "id": "52348dc1",
   "metadata": {},
   "source": [
    "Ejercicio de evaluacion: Documento de pruebas"
   ]
  },
  {
   "cell_type": "markdown",
   "id": "592368a9",
   "metadata": {},
   "source": [
    "A lo largo de esta evaluación tendrás que crear una clase llamada TiendaOnline que cumpla los\n",
    "siguientes requisitos:"
   ]
  },
  {
   "cell_type": "code",
   "execution_count": 1,
   "id": "928aff32",
   "metadata": {},
   "outputs": [],
   "source": [
    "class TiendaOnline: \n",
    "    pass"
   ]
  },
  {
   "cell_type": "code",
   "execution_count": 2,
   "id": "f8a80006",
   "metadata": {},
   "outputs": [
    {
     "data": {
      "text/plain": [
       "<__main__.TiendaOnline at 0x17b94083ef0>"
      ]
     },
     "execution_count": 2,
     "metadata": {},
     "output_type": "execute_result"
    }
   ],
   "source": [
    "tienda_ropa = TiendaOnline()\n",
    "tienda_ropa"
   ]
  },
  {
   "cell_type": "markdown",
   "id": "a9c7e180",
   "metadata": {},
   "source": [
    "La clase TiendaOnline debe tener los siguientes atributos:\n",
    "\n",
    "1. inventario (lista de diccionarios): Un atributo para almacenar los productos en el inventario.\n",
    "Cada producto debe ser representado como un diccionario con las siguientes claves:\n",
    "'nombre', 'precio', y 'cantidad'. Al principio deberá ser una lista vacía. Ejemplo de\n",
    "como debería ser:\n",
    "[{'nombre': 'Camisa', 'precio': 20, 'cantidad': 40},\n",
    "{'nombre': 'Pantalón', 'precio': 30, 'cantidad': 30}]\n",
    "\n",
    "2. ventas_totales (float): Un atributo para llevar un registro de las ventas totales de la tienda.\n",
    "Inicializado con valor 0."
   ]
  },
  {
   "cell_type": "code",
   "execution_count": null,
   "id": "f463bac2",
   "metadata": {},
   "outputs": [],
   "source": [
    "## ERROR NO EJECUTAR\n",
    "\n",
    "class TiendaOnline:\n",
    "    def __init__(self, inventario, ventas_totales):\n",
    "        self.inventario = []\n",
    "        self.ventas_totales = float(0)"
   ]
  },
  {
   "cell_type": "code",
   "execution_count": null,
   "id": "cb8936d3",
   "metadata": {},
   "outputs": [],
   "source": [
    "## ERROR NO EJECUTAR\n",
    "\n",
    "tienda_ropa = TiendaOnline([{'nombre': 'Camisa', 'precio': 20, 'cantidad': 40}, {'nombre': 'Pantalón', 'precio': 30, 'cantidad': 30}], 0)\n",
    "tienda_ropa.__dict__\n",
    "\n",
    "# veo que me ha cogido bien el def __init__ porque me salen sus atributos y valores\n",
    "# entiendo que no me coge el inventario [{}] de tienda_ropa porque aun no he realizado un self.inventario y no puede acceder a él"
   ]
  },
  {
   "cell_type": "code",
   "execution_count": 3,
   "id": "71fb7e15",
   "metadata": {},
   "outputs": [],
   "source": [
    "#después de hablar con César y ver que inventario y ventas_totales daban error:\n",
    "class TiendaOnline:\n",
    "    def __init__(self):\n",
    "        self.inventario = []\n",
    "        self.ventas_totales = float(0)"
   ]
  },
  {
   "cell_type": "code",
   "execution_count": 4,
   "id": "400b7bb9",
   "metadata": {},
   "outputs": [
    {
     "data": {
      "text/plain": [
       "{'inventario': [], 'ventas_totales': 0.0}"
      ]
     },
     "execution_count": 4,
     "metadata": {},
     "output_type": "execute_result"
    }
   ],
   "source": [
    "tienda_ropa=TiendaOnline() \n",
    "tienda_ropa.__dict__"
   ]
  },
  {
   "cell_type": "markdown",
   "id": "5ad3f9f0",
   "metadata": {},
   "source": [
    "La clase TiendaOnline debe tener los siguientes métodos:\n",
    "\n",
    "1. agregar_producto(self, nombre, precio, cantidad): Este método agrega un producto al\n",
    "inventario o actualiza su cantidad si ya existe. Debe recibir el nombre, precio y cantidad del producto\n",
    "como parámetros.\n",
    "- Itera a través del inventario y compara los nombres de los productos con el nombre proporcionado.\n",
    "- Si el producto ya existe, actualiza la cantidad.\n",
    "- Si no existe, agrega un nuevo producto al inventario."
   ]
  },
  {
   "cell_type": "code",
   "execution_count": 27,
   "id": "530b4fac",
   "metadata": {},
   "outputs": [],
   "source": [
    "# agregar productos al inventario o actualizar si el producto ya existe:\n",
    "\n",
    "def agregar_producto(self, nombre, precio, cantidad): \n",
    "    pass"
   ]
  },
  {
   "cell_type": "code",
   "execution_count": 29,
   "id": "8abb1f45",
   "metadata": {},
   "outputs": [
    {
     "name": "stdout",
     "output_type": "stream",
     "text": [
      "Tenemos {'nombre': 'Camisa', 'precio': 20, 'cantidad': 40}\n",
      "También hay {'nombre': 'Pantalón', 'precio': 30, 'cantidad': 30}\n"
     ]
    }
   ],
   "source": [
    "#primero compruebo en pequeñito:\n",
    "inventario = [{'nombre': 'Camisa', 'precio': 20, 'cantidad': 40}, {'nombre': 'Pantalón', 'precio': 30, 'cantidad': 30}]\n",
    "for producto in inventario: # producto será cada diccionario\n",
    "    if producto[\"nombre\"] == \"Camisa\":\n",
    "        print(f\"Tenemos\", producto)\n",
    "    else:\n",
    "        print(f\"También hay\", producto)"
   ]
  },
  {
   "cell_type": "code",
   "execution_count": 30,
   "id": "9ddf1992",
   "metadata": {},
   "outputs": [
    {
     "name": "stdout",
     "output_type": "stream",
     "text": [
      "También hay {'nombre': 'Camisa', 'precio': 20, 'cantidad': 40}\n",
      "----------------------\n",
      "Tenemos {'nombre': 'Pantalón', 'precio': 30, 'cantidad': 30}\n",
      "----------------------\n"
     ]
    }
   ],
   "source": [
    "for producto in inventario:\n",
    "    if producto[\"nombre\"] == \"Pantalón\":\n",
    "        print(f\"Tenemos\", producto)\n",
    "        print(\"----------------------\")\n",
    "    else:\n",
    "        print(f\"También hay\", producto) \n",
    "        print(\"----------------------\")"
   ]
  },
  {
   "cell_type": "code",
   "execution_count": 31,
   "id": "ebfb5b32",
   "metadata": {},
   "outputs": [
    {
     "name": "stdout",
     "output_type": "stream",
     "text": [
      "Tenemos {'nombre': 'Camisa', 'precio': 20, 'cantidad': 40}\n",
      "Ahora tenemos {'nombre': 'Camisa', 'precio': 20, 'cantidad': 50}\n",
      "----------------------\n",
      "También hay {'nombre': 'Pantalón', 'precio': 30, 'cantidad': 30}\n",
      "----------------------\n"
     ]
    }
   ],
   "source": [
    "#veo que tengo camisas y pantalones, voy a actualizar la cantidad:\n",
    "inventario = [{'nombre': 'Camisa', 'precio': 20, 'cantidad': 40}, {'nombre': 'Pantalón', 'precio': 30, 'cantidad': 30}]\n",
    "for producto in inventario:\n",
    "    if producto[\"nombre\"] == \"Camisa\":\n",
    "        print(f\"Tenemos\", producto)\n",
    "        producto[\"cantidad\"] = 50\n",
    "        print(f\"Ahora tenemos\", producto)\n",
    "        print(\"----------------------\")\n",
    "    else:\n",
    "        print(f\"También hay\", producto) \n",
    "        print(\"----------------------\")"
   ]
  },
  {
   "cell_type": "code",
   "execution_count": null,
   "id": "5cf27ad0",
   "metadata": {},
   "outputs": [
    {
     "name": "stdout",
     "output_type": "stream",
     "text": [
      "Ahora tenemos en el inventario {'nombre': 'Zapatos', 'precio': 50, 'cantidad': 40}\n",
      "----------------------\n",
      "Ahora tenemos en el inventario {'nombre': 'Zapatos', 'precio': 50, 'cantidad': 40}\n",
      "----------------------\n",
      "Tenemos {'nombre': 'Zapatos', 'precio': 50, 'cantidad': 40}\n",
      "Ahora tenemos {'nombre': 'Zapatos', 'precio': 50, 'cantidad': 50}\n",
      "----------------------\n"
     ]
    }
   ],
   "source": [
    "#veo que puedo actualizar cantidad, voy a agregar un nuevo producto al inventario:\n",
    "inventario = [{'nombre': 'Camisa', 'precio': 20, 'cantidad': 40}, {'nombre': 'Pantalón', 'precio': 30, 'cantidad': 30}]\n",
    "producto_nuevo = {'nombre': 'Zapatos', 'precio': 50, 'cantidad': 40}\n",
    "\n",
    "for producto in inventario:\n",
    "    if producto[\"nombre\"] == \"Zapatos\":\n",
    "        print(f\"Tenemos\", producto)\n",
    "        producto[\"cantidad\"] = 50\n",
    "        print(f\"Ahora tenemos\", producto)\n",
    "        print(\"----------------------\")\n",
    "        break  ## necesito un break o se vuelve loco\n",
    "    else:\n",
    "        producto_nuevo = {'nombre': 'Zapatos', 'precio': 50, 'cantidad': 40}\n",
    "        inventario.append(producto_nuevo)\n",
    "        print(\"Ahora tenemos en el inventario\", producto_nuevo)\n",
    "        print(\"----------------------\")"
   ]
  },
  {
   "cell_type": "code",
   "execution_count": 37,
   "id": "4d7e202e",
   "metadata": {},
   "outputs": [
    {
     "name": "stdout",
     "output_type": "stream",
     "text": [
      "Ahora tenemos en el inventario {'nombre': 'Zapatos', 'precio': 50, 'cantidad': 40}\n",
      "----------------------\n"
     ]
    }
   ],
   "source": [
    "# me está incluyendo los zapatos antes en la iteracion 1 y en la 2, necesto sacar el else:\n",
    "inventario = [{'nombre': 'Camisa', 'precio': 20, 'cantidad': 40}, {'nombre': 'Pantalón', 'precio': 30, 'cantidad': 30}]\n",
    "producto_nuevo = {'nombre': 'Zapatos', 'precio': 50, 'cantidad': 40}\n",
    "\n",
    "for producto in inventario:\n",
    "    if producto[\"nombre\"] == \"Zapatos\":\n",
    "        print(f\"Tenemos\", producto)\n",
    "        producto[\"cantidad\"] = 50\n",
    "        print(f\"Ahora tenemos\", producto)\n",
    "        print(\"----------------------\")\n",
    "        break  ## necesito un break o se vuelve loco\n",
    "else:  # saco el else del if porque si está dentro me añade el producto_nuevo antes de revisar (iterar) en todo el inventario\n",
    "    producto_nuevo = {'nombre': 'Zapatos', 'precio': 50, 'cantidad': 40}\n",
    "    inventario.append(producto_nuevo)\n",
    "    print(\"Ahora tenemos en el inventario\", producto_nuevo)\n",
    "    print(\"----------------------\")\n"
   ]
  },
  {
   "cell_type": "code",
   "execution_count": 38,
   "id": "2fdd5c12",
   "metadata": {},
   "outputs": [],
   "source": [
    "# ahora la paso función genérica:\n",
    "inventario = []\n",
    "producto_nuevo = {'nombre': 'Zapatos', 'precio': 50, 'cantidad': 40}\n",
    "\n",
    "def agregar_producto(nombre, precio, cantidad):\n",
    "    for producto in inventario:\n",
    "        if producto[\"nombre\"] == nombre:\n",
    "            print(f\"Tenemos\", producto)\n",
    "            producto[\"cantidad\"] += cantidad  # pongo + para añadir cantidad, pero podría ser un - para ventas, o un = para nuevo stock (q habría q modificarlo tb)\n",
    "            print(f\"Ahora tenemos\", producto)\n",
    "            print(\"----------------------\")\n",
    "            break\n",
    "    else: \n",
    "        producto_nuevo = {'nombre': nombre, 'precio': precio, 'cantidad': cantidad} #aqui necesito decirle las variables (para genérico)\n",
    "        inventario.append(producto_nuevo)\n",
    "        print(\"Ahora tenemos en el inventario\", producto_nuevo)\n",
    "        print(\"----------------------\")\n"
   ]
  },
  {
   "cell_type": "code",
   "execution_count": 39,
   "id": "ce6abd40",
   "metadata": {},
   "outputs": [
    {
     "name": "stdout",
     "output_type": "stream",
     "text": [
      "Ahora tenemos en el inventario {'nombre': 'camisa', 'precio': 20, 'cantidad': 60}\n",
      "----------------------\n"
     ]
    },
    {
     "data": {
      "text/plain": [
       "[{'nombre': 'camisa', 'precio': 20, 'cantidad': 60}]"
      ]
     },
     "execution_count": 39,
     "metadata": {},
     "output_type": "execute_result"
    }
   ],
   "source": [
    "agregar_producto(\"camisa\", 20, 60)\n",
    "inventario"
   ]
  },
  {
   "cell_type": "code",
   "execution_count": 55,
   "id": "6fcbe429",
   "metadata": {},
   "outputs": [],
   "source": [
    "# lo metemos como método en la clase:\n",
    "class TiendaOnline:\n",
    "    def __init__(self):\n",
    "        self.inventario = []\n",
    "        self.ventas_totales = float(0)\n",
    "    def agregar_producto(self, nombre, precio, cantidad):\n",
    "        self.nombre = nombre\n",
    "        self.precio = precio\n",
    "        self.cantidad = cantidad\n",
    "        for producto in self.inventario:\n",
    "            if producto[\"nombre\"] == self.nombre:\n",
    "                print(f\"Tenemos\", producto)\n",
    "                producto[\"cantidad\"] += self.cantidad  # pongo + para añadir cantidad, pero podría ser un - para ventas, o un = para nuevo stock (q habría q modificarlo tb)\n",
    "                print(f\"Ahora tenemos\", producto)\n",
    "                print(\"----------------------\")\n",
    "                break\n",
    "        else: \n",
    "            producto_nuevo = {'nombre': self.nombre, 'precio': self.precio, 'cantidad': self.cantidad} \n",
    "            self.inventario.append(producto_nuevo)\n",
    "            print(\"Ahora tenemos en el inventario\", producto_nuevo)\n",
    "            print(\"----------------------\")\n"
   ]
  },
  {
   "cell_type": "code",
   "execution_count": 56,
   "id": "8b5dc89c",
   "metadata": {},
   "outputs": [
    {
     "name": "stdout",
     "output_type": "stream",
     "text": [
      "Ahora tenemos en el inventario {'nombre': 'Camisa', 'precio': 20, 'cantidad': 40}\n",
      "----------------------\n"
     ]
    },
    {
     "data": {
      "text/plain": [
       "{'inventario': [{'nombre': 'Camisa', 'precio': 20, 'cantidad': 40}],\n",
       " 'ventas_totales': 0.0,\n",
       " 'nombre': 'Camisa',\n",
       " 'precio': 20,\n",
       " 'cantidad': 40}"
      ]
     },
     "execution_count": 56,
     "metadata": {},
     "output_type": "execute_result"
    }
   ],
   "source": [
    "tienda_ropa = TiendaOnline()\n",
    "tienda_ropa.agregar_producto('Camisa', 20, 40)\n",
    "tienda_ropa.__dict__"
   ]
  },
  {
   "cell_type": "markdown",
   "id": "85a82bbe",
   "metadata": {},
   "source": [
    "2. ver_inventario(self): Muestra el inventario de productos con sus detalles.\n",
    "- Utiliza un bucle for para recorrer el inventario.\n",
    "- Imprime los detalles (nombre, precio, cantidad) de cada producto.\n",
    "- Debería verse:\n",
    "Nombre: Camisa, Precio: $20, Cantidad: 50\n",
    "Nombre: Pantalón, Precio: $30, Cantidad: 30\n",
    "Nombre: Zapatos, Precio: $50, Cantidad: 40\n",
    "Nombre: Camisa, Precio: $20, Cantidad: 50"
   ]
  },
  {
   "cell_type": "code",
   "execution_count": 57,
   "id": "026ca77b",
   "metadata": {},
   "outputs": [],
   "source": [
    "def ver_inventario(self):\n",
    "    pass"
   ]
  },
  {
   "cell_type": "code",
   "execution_count": 58,
   "id": "df7afb69",
   "metadata": {},
   "outputs": [
    {
     "ename": "NameError",
     "evalue": "name 'nombre' is not defined",
     "output_type": "error",
     "traceback": [
      "\u001b[1;31m---------------------------------------------------------------------------\u001b[0m",
      "\u001b[1;31mNameError\u001b[0m                                 Traceback (most recent call last)",
      "Cell \u001b[1;32mIn[58], line 4\u001b[0m\n\u001b[0;32m      1\u001b[0m inventario \u001b[38;5;241m=\u001b[39m [{\u001b[38;5;124m'\u001b[39m\u001b[38;5;124mnombre\u001b[39m\u001b[38;5;124m'\u001b[39m: \u001b[38;5;124m'\u001b[39m\u001b[38;5;124mCamisa\u001b[39m\u001b[38;5;124m'\u001b[39m, \u001b[38;5;124m'\u001b[39m\u001b[38;5;124mprecio\u001b[39m\u001b[38;5;124m'\u001b[39m: \u001b[38;5;241m20\u001b[39m, \u001b[38;5;124m'\u001b[39m\u001b[38;5;124mcantidad\u001b[39m\u001b[38;5;124m'\u001b[39m: \u001b[38;5;241m40\u001b[39m}, {\u001b[38;5;124m'\u001b[39m\u001b[38;5;124mnombre\u001b[39m\u001b[38;5;124m'\u001b[39m: \u001b[38;5;124m'\u001b[39m\u001b[38;5;124mPantalón\u001b[39m\u001b[38;5;124m'\u001b[39m, \u001b[38;5;124m'\u001b[39m\u001b[38;5;124mprecio\u001b[39m\u001b[38;5;124m'\u001b[39m: \u001b[38;5;241m30\u001b[39m, \u001b[38;5;124m'\u001b[39m\u001b[38;5;124mcantidad\u001b[39m\u001b[38;5;124m'\u001b[39m: \u001b[38;5;241m30\u001b[39m}]\n\u001b[0;32m      3\u001b[0m \u001b[38;5;28;01mfor\u001b[39;00m producto \u001b[38;5;129;01min\u001b[39;00m inventario:\n\u001b[1;32m----> 4\u001b[0m     \u001b[38;5;28mprint\u001b[39m(\u001b[38;5;124mf\u001b[39m\u001b[38;5;124m\"\u001b[39m\u001b[38;5;124mNombre: \u001b[39m\u001b[38;5;124m\"\u001b[39m, nombre, \u001b[38;5;124m\"\u001b[39m\u001b[38;5;124m, Precio: \u001b[39m\u001b[38;5;124m\"\u001b[39m, precio, \u001b[38;5;124m\"\u001b[39m\u001b[38;5;124m$, Cantidad: \u001b[39m\u001b[38;5;124m\"\u001b[39m, cantidad, \u001b[38;5;124m\"\u001b[39m\u001b[38;5;124munidades.\u001b[39m\u001b[38;5;124m\"\u001b[39m)\n\u001b[0;32m      5\u001b[0m     \u001b[38;5;28mprint\u001b[39m(\u001b[38;5;124m\"\u001b[39m\u001b[38;5;124m----------------------\u001b[39m\u001b[38;5;124m\"\u001b[39m)\n",
      "\u001b[1;31mNameError\u001b[0m: name 'nombre' is not defined"
     ]
    }
   ],
   "source": [
    "inventario = [{'nombre': 'Camisa', 'precio': 20, 'cantidad': 40}, {'nombre': 'Pantalón', 'precio': 30, 'cantidad': 30}]\n",
    "\n",
    "for producto in inventario:\n",
    "    print(f\"Nombre: \", nombre, \", Precio: \", precio, \"$, Cantidad: \", cantidad, \"unidades.\")\n",
    "    print(\"----------------------\")\n"
   ]
  },
  {
   "cell_type": "code",
   "execution_count": 66,
   "id": "b77d40ab",
   "metadata": {},
   "outputs": [],
   "source": [
    "# lo metemos como método en la clase:\n",
    "class TiendaOnline:\n",
    "    def __init__(self):\n",
    "        self.inventario = []\n",
    "        self.ventas_totales = float(0)\n",
    "    def agregar_producto(self, nombre, precio, cantidad):\n",
    "        self.nombre = nombre\n",
    "        self.precio = precio\n",
    "        self.cantidad = cantidad\n",
    "        for producto in self.inventario:\n",
    "            if producto[\"nombre\"] == self.nombre:\n",
    "                print(f\"Tenemos\", producto)\n",
    "                producto[\"cantidad\"] += self.cantidad  # pongo + para añadir cantidad, pero podría ser un - para ventas, o un = para nuevo stock (q habría q modificarlo tb)\n",
    "                print(f\"Ahora tenemos\", producto)\n",
    "                print(\"----------------------\")\n",
    "                break\n",
    "        else: \n",
    "            producto_nuevo = {'nombre': self.nombre, 'precio': self.precio, 'cantidad': self.cantidad} \n",
    "            self.inventario.append(producto_nuevo)\n",
    "            print(\"Ahora tenemos en el inventario\", producto_nuevo)\n",
    "            print(\"----------------------\")\n",
    "    def ver_inventario(self):\n",
    "        for producto in self.inventario:\n",
    "            print(f\"Inventario: Nombre: \", self.nombre, \", Precio: \", self.precio, \"$, Cantidad: \", self.cantidad, \"unidades.\")\n",
    "            print(\"----------------------\")"
   ]
  },
  {
   "cell_type": "code",
   "execution_count": 67,
   "id": "b2b5505e",
   "metadata": {},
   "outputs": [
    {
     "data": {
      "text/plain": [
       "{'inventario': [], 'ventas_totales': 0.0}"
      ]
     },
     "execution_count": 67,
     "metadata": {},
     "output_type": "execute_result"
    }
   ],
   "source": [
    "tienda_ropa = TiendaOnline()\n",
    "tienda_ropa.ver_inventario()\n",
    "tienda_ropa.__dict__"
   ]
  },
  {
   "cell_type": "code",
   "execution_count": 68,
   "id": "030324aa",
   "metadata": {},
   "outputs": [
    {
     "name": "stdout",
     "output_type": "stream",
     "text": [
      "Ahora tenemos en el inventario {'nombre': 'Camisa', 'precio': 20, 'cantidad': 40}\n",
      "----------------------\n",
      "Inventario: Nombre:  Camisa , Precio:  20 $, Cantidad:  40 unidades.\n",
      "----------------------\n"
     ]
    }
   ],
   "source": [
    "tienda_ropa.agregar_producto('Camisa', 20, 40)\n",
    "tienda_ropa.ver_inventario()"
   ]
  }
 ],
 "metadata": {
  "kernelspec": {
   "display_name": "base",
   "language": "python",
   "name": "python3"
  },
  "language_info": {
   "codemirror_mode": {
    "name": "ipython",
    "version": 3
   },
   "file_extension": ".py",
   "mimetype": "text/x-python",
   "name": "python",
   "nbconvert_exporter": "python",
   "pygments_lexer": "ipython3",
   "version": "3.12.7"
  }
 },
 "nbformat": 4,
 "nbformat_minor": 5
}
