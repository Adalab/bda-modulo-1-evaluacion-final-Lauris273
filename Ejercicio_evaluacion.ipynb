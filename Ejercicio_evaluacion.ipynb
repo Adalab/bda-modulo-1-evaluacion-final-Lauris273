{
 "cells": [
  {
   "cell_type": "code",
   "execution_count": 3,
   "id": "7e91f36d",
   "metadata": {},
   "outputs": [],
   "source": [
    "class TiendaOnline:\n",
    "    def __init__(self):\n",
    "        self.inventario = []\n",
    "        self.ventas_totales = float(0)\n",
    "\n",
    "    def agregar_producto(self, nombre, precio, cantidad):\n",
    "        for producto in self.inventario:\n",
    "            if producto[\"nombre\"] == nombre:\n",
    "                print(f\"Tenemos\", producto)\n",
    "                producto[\"cantidad\"] += cantidad  # pongo + para añadir cantidad, pero podría ser un - para ventas, o un = para nuevo stock (q habría q modificarlo tb)\n",
    "                print(f\"Ahora tenemos\", producto)\n",
    "                print(\"----------------------\")\n",
    "                break\n",
    "        else: \n",
    "            producto_nuevo = {'nombre': nombre, 'precio': precio, 'cantidad': cantidad} \n",
    "            self.inventario.append(producto_nuevo)\n",
    "            print(\"Ahora tenemos en el inventario\", producto_nuevo)\n",
    "            print(\"----------------------\")\n",
    "\n",
    "    def ver_inventario(self):\n",
    "        for producto in self.inventario:\n",
    "            print(f\"Inventario: Nombre: \", producto[\"nombre\"], \", Precio: \", producto[\"precio\"], \"$, Cantidad: \", producto[\"cantidad\"], \"unidades.\")\n",
    "            print(\"----------------------\")\n",
    "\n",
    "    def buscar_producto(self, nombre):\n",
    "        for producto in self.inventario:\n",
    "            if producto[\"nombre\"] == nombre.title():\n",
    "                print(f\"Tenemos\", nombre)\n",
    "                print(\"----------------------\")\n",
    "                print(f\"En la tienda tenemos Nombre: \", nombre, \", Precio: \", producto[\"precio\"], \"$, Cantidad: \", producto[\"cantidad\"], \"unidades.\") \n",
    "                break\n",
    "        else: \n",
    "            print(f\"No tenemos\", nombre)\n",
    "\n",
    "    def actualizar_stock(self, nombre, cantidad):\n",
    "        for producto in self.inventario:\n",
    "            if producto[\"nombre\"] == nombre.title():\n",
    "                producto[\"cantidad\"] += cantidad # pongo + para añadir cantidad, pero podría ser un - para ventas, o un = para nuevo stock (q habría q modificarlo tb)\n",
    "                print(f\"Se ha actualizado el stock de\", nombre, \"a\", cantidad, \"unidades. Ahora quedan\", producto[\"cantidad\"], \"unidades.\")\n",
    "                print(\"----------------------\")\n",
    "                break\n",
    "        else: \n",
    "            print(f\"No tenemos\", nombre)\n",
    "\n",
    "    def eliminar_producto(self, nombre):\n",
    "        for producto in self.inventario:\n",
    "            if producto[\"nombre\"] == nombre.title():\n",
    "                self.inventario.remove(producto)\n",
    "                print(f\"Se ha actualizado el inventario y ahora contiene\", self.inventario)\n",
    "                print(\"----------------------\")\n",
    "                break\n",
    "        else:    ## le añado un break xa que pare cuando lo encuentr y saco el else para que sólo envíe el \"no tenemos\" si no hay (no en cada vuelta) \n",
    "            print(f\"No tenemos\", nombre)\n",
    "    \n",
    "    def calcular_valor_inventario(self):\n",
    "        valor_inventario = 0\n",
    "        for producto in self.inventario:\n",
    "            valor_producto = producto[\"precio\"]*producto[\"cantidad\"]\n",
    "            valor_inventario += valor_producto\n",
    "        print(f\"El valor total del inventario es: \", valor_inventario)\n",
    "        print(\"----------------------\")"
   ]
  },
  {
   "cell_type": "code",
   "execution_count": 7,
   "id": "926cbf7f",
   "metadata": {},
   "outputs": [],
   "source": [
    "tienda_ropa = TiendaOnline()"
   ]
  },
  {
   "cell_type": "code",
   "execution_count": 8,
   "id": "b6edc743",
   "metadata": {},
   "outputs": [
    {
     "name": "stdout",
     "output_type": "stream",
     "text": [
      "Ahora tenemos en el inventario {'nombre': 'Camisa', 'precio': 20, 'cantidad': 40}\n",
      "----------------------\n",
      "Tenemos {'nombre': 'Camisa', 'precio': 20, 'cantidad': 40}\n",
      "Ahora tenemos {'nombre': 'Camisa', 'precio': 20, 'cantidad': 80}\n",
      "----------------------\n",
      "Ahora tenemos en el inventario {'nombre': 'Pantalón', 'precio': 30, 'cantidad': 30}\n",
      "----------------------\n",
      "Ahora tenemos en el inventario {'nombre': 'Zapatos', 'precio': 50, 'cantidad': 40}\n",
      "----------------------\n"
     ]
    },
    {
     "data": {
      "text/plain": [
       "{'inventario': [{'nombre': 'Camisa', 'precio': 20, 'cantidad': 80},\n",
       "  {'nombre': 'Pantalón', 'precio': 30, 'cantidad': 30},\n",
       "  {'nombre': 'Zapatos', 'precio': 50, 'cantidad': 40}],\n",
       " 'ventas_totales': 0.0}"
      ]
     },
     "execution_count": 8,
     "metadata": {},
     "output_type": "execute_result"
    }
   ],
   "source": [
    "tienda_ropa.agregar_producto('Camisa', 20, 40)\n",
    "tienda_ropa.agregar_producto('Camisa', 20, 40)\n",
    "tienda_ropa.agregar_producto('Pantalón', 30, 30)\n",
    "tienda_ropa.agregar_producto('Zapatos', 50, 40)\n",
    "tienda_ropa.__dict__"
   ]
  },
  {
   "cell_type": "code",
   "execution_count": 9,
   "id": "1484f545",
   "metadata": {},
   "outputs": [
    {
     "name": "stdout",
     "output_type": "stream",
     "text": [
      "Inventario: Nombre:  Camisa , Precio:  20 $, Cantidad:  80 unidades.\n",
      "----------------------\n",
      "Inventario: Nombre:  Pantalón , Precio:  30 $, Cantidad:  30 unidades.\n",
      "----------------------\n",
      "Inventario: Nombre:  Zapatos , Precio:  50 $, Cantidad:  40 unidades.\n",
      "----------------------\n"
     ]
    }
   ],
   "source": [
    "tienda_ropa.ver_inventario()"
   ]
  },
  {
   "cell_type": "code",
   "execution_count": 10,
   "id": "fa72e17a",
   "metadata": {},
   "outputs": [
    {
     "name": "stdout",
     "output_type": "stream",
     "text": [
      "Tenemos camisa\n",
      "----------------------\n",
      "En la tienda tenemos Nombre:  camisa , Precio:  20 $, Cantidad:  80 unidades.\n"
     ]
    }
   ],
   "source": [
    "tienda_ropa.buscar_producto(\"camisa\")"
   ]
  },
  {
   "cell_type": "code",
   "execution_count": 11,
   "id": "73dbce21",
   "metadata": {},
   "outputs": [
    {
     "name": "stdout",
     "output_type": "stream",
     "text": [
      "Se ha actualizado el stock de camisa a -3 unidades. Ahora quedan 77 unidades.\n",
      "----------------------\n"
     ]
    }
   ],
   "source": [
    "tienda_ropa.actualizar_stock(\"camisa\", -3)"
   ]
  },
  {
   "cell_type": "code",
   "execution_count": 12,
   "id": "ccc26859",
   "metadata": {},
   "outputs": [
    {
     "name": "stdout",
     "output_type": "stream",
     "text": [
      "Se ha actualizado el inventario y ahora contiene [{'nombre': 'Pantalón', 'precio': 30, 'cantidad': 30}, {'nombre': 'Zapatos', 'precio': 50, 'cantidad': 40}]\n",
      "----------------------\n"
     ]
    }
   ],
   "source": [
    "tienda_ropa.eliminar_producto(\"camisa\")"
   ]
  },
  {
   "cell_type": "code",
   "execution_count": 13,
   "id": "87945d2c",
   "metadata": {},
   "outputs": [
    {
     "name": "stdout",
     "output_type": "stream",
     "text": [
      "El valor total del inventario es:  2900\n",
      "----------------------\n"
     ]
    }
   ],
   "source": [
    "tienda_ropa.calcular_valor_inventario()"
   ]
  }
 ],
 "metadata": {
  "kernelspec": {
   "display_name": "base",
   "language": "python",
   "name": "python3"
  },
  "language_info": {
   "codemirror_mode": {
    "name": "ipython",
    "version": 3
   },
   "file_extension": ".py",
   "mimetype": "text/x-python",
   "name": "python",
   "nbconvert_exporter": "python",
   "pygments_lexer": "ipython3",
   "version": "3.12.7"
  }
 },
 "nbformat": 4,
 "nbformat_minor": 5
}
