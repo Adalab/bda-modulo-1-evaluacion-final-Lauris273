{
 "cells": [
  {
   "cell_type": "code",
   "execution_count": 3,
   "id": "7e91f36d",
   "metadata": {},
   "outputs": [],
   "source": [
    "class TiendaOnline:\n",
    "    def __init__(self):\n",
    "        self.inventario = []\n",
    "        self.ventas_totales = float(0)\n",
    "\n",
    "    def agregar_producto(self, nombre, precio, cantidad):\n",
    "        for producto in self.inventario:\n",
    "            if producto[\"nombre\"] == nombre:\n",
    "                print(f\"Tenemos\", producto)\n",
    "                producto[\"cantidad\"] += cantidad  # pongo + para añadir cantidad, pero podría ser un - para ventas, o un = para nuevo stock (q habría q modificarlo tb)\n",
    "                print(f\"Ahora tenemos\", producto)\n",
    "                print(\"----------------------\")\n",
    "                break\n",
    "        else: \n",
    "            producto_nuevo = {'nombre': nombre, 'precio': precio, 'cantidad': cantidad} \n",
    "            self.inventario.append(producto_nuevo)\n",
    "            print(\"Ahora tenemos en el inventario\", producto_nuevo)\n",
    "            print(\"----------------------\")\n",
    "\n",
    "    def ver_inventario(self):\n",
    "        for producto in self.inventario:\n",
    "            print(f\"Inventario: Nombre: \", producto[\"nombre\"], \", Precio: \", producto[\"precio\"], \"$, Cantidad: \", producto[\"cantidad\"], \"unidades.\")\n",
    "            print(\"----------------------\")\n",
    "\n",
    "    def buscar_producto(self, nombre):\n",
    "        for producto in self.inventario:\n",
    "            if producto[\"nombre\"] == nombre.title():\n",
    "                print(f\"Tenemos\", nombre)\n",
    "                print(\"----------------------\")\n",
    "                print(f\"En la tienda tenemos Nombre: \", nombre, \", Precio: \", producto[\"precio\"], \"$, Cantidad: \", producto[\"cantidad\"], \"unidades.\") \n",
    "                break\n",
    "        else: \n",
    "            print(f\"No tenemos\", nombre)\n",
    "\n",
    "    def actualizar_stock(self, nombre, cantidad):\n",
    "        for producto in self.inventario:\n",
    "            if producto[\"nombre\"] == nombre.title():\n",
    "                producto[\"cantidad\"] += cantidad # pongo + para añadir cantidad, pero podría ser un - para ventas, o un = para nuevo stock (q habría q modificarlo tb)\n",
    "                print(f\"Se ha actualizado el stock de\", nombre, \"a\", cantidad, \"unidades. Ahora quedan\", producto[\"cantidad\"], \"unidades.\")\n",
    "                print(\"----------------------\")\n",
    "                break\n",
    "        else: \n",
    "            print(f\"No tenemos\", nombre)\n",
    "\n",
    "    def eliminar_producto(self, nombre):\n",
    "        for producto in self.inventario:\n",
    "            if producto[\"nombre\"] == nombre.title():\n",
    "                self.inventario.remove(producto)\n",
    "                print(f\"Se ha actualizado el inventario y ahora contiene\", self.inventario)\n",
    "                print(\"----------------------\")\n",
    "                break\n",
    "        else:    ## le añado un break xa que pare cuando lo encuentr y saco el else para que sólo envíe el \"no tenemos\" si no hay (no en cada vuelta) \n",
    "            print(f\"No tenemos\", nombre)\n",
    "    \n",
    "    def calcular_valor_inventario(self):\n",
    "        valor_inventario = 0\n",
    "        for producto in self.inventario:\n",
    "            valor_producto = producto[\"precio\"]*producto[\"cantidad\"]\n",
    "            valor_inventario += valor_producto\n",
    "        print(f\"El valor total del inventario es: \", valor_inventario)\n",
    "        print(\"----------------------\")"
   ]
  },
  {
   "cell_type": "code",
   "execution_count": 7,
   "id": "926cbf7f",
   "metadata": {},
   "outputs": [],
   "source": [
    "tienda_ropa = TiendaOnline()"
   ]
  },
  {
   "cell_type": "code",
   "execution_count": 8,
   "id": "b6edc743",
   "metadata": {},
   "outputs": [
    {
     "name": "stdout",
     "output_type": "stream",
     "text": [
      "Ahora tenemos en el inventario {'nombre': 'Camisa', 'precio': 20, 'cantidad': 40}\n",
      "----------------------\n",
      "Tenemos {'nombre': 'Camisa', 'precio': 20, 'cantidad': 40}\n",
      "Ahora tenemos {'nombre': 'Camisa', 'precio': 20, 'cantidad': 80}\n",
      "----------------------\n",
      "Ahora tenemos en el inventario {'nombre': 'Pantalón', 'precio': 30, 'cantidad': 30}\n",
      "----------------------\n",
      "Ahora tenemos en el inventario {'nombre': 'Zapatos', 'precio': 50, 'cantidad': 40}\n",
      "----------------------\n"
     ]
    },
    {
     "data": {
      "text/plain": [
       "{'inventario': [{'nombre': 'Camisa', 'precio': 20, 'cantidad': 80},\n",
       "  {'nombre': 'Pantalón', 'precio': 30, 'cantidad': 30},\n",
       "  {'nombre': 'Zapatos', 'precio': 50, 'cantidad': 40}],\n",
       " 'ventas_totales': 0.0}"
      ]
     },
     "execution_count": 8,
     "metadata": {},
     "output_type": "execute_result"
    }
   ],
   "source": [
    "tienda_ropa.agregar_producto('Camisa', 20, 40)\n",
    "tienda_ropa.agregar_producto('Camisa', 20, 40)\n",
    "tienda_ropa.agregar_producto('Pantalón', 30, 30)\n",
    "tienda_ropa.agregar_producto('Zapatos', 50, 40)\n",
    "tienda_ropa.__dict__"
   ]
  },
  {
   "cell_type": "code",
   "execution_count": 9,
   "id": "1484f545",
   "metadata": {},
   "outputs": [
    {
     "name": "stdout",
     "output_type": "stream",
     "text": [
      "Inventario: Nombre:  Camisa , Precio:  20 $, Cantidad:  80 unidades.\n",
      "----------------------\n",
      "Inventario: Nombre:  Pantalón , Precio:  30 $, Cantidad:  30 unidades.\n",
      "----------------------\n",
      "Inventario: Nombre:  Zapatos , Precio:  50 $, Cantidad:  40 unidades.\n",
      "----------------------\n"
     ]
    }
   ],
   "source": [
    "tienda_ropa.ver_inventario()"
   ]
  },
  {
   "cell_type": "code",
   "execution_count": 10,
   "id": "fa72e17a",
   "metadata": {},
   "outputs": [
    {
     "name": "stdout",
     "output_type": "stream",
     "text": [
      "Tenemos camisa\n",
      "----------------------\n",
      "En la tienda tenemos Nombre:  camisa , Precio:  20 $, Cantidad:  80 unidades.\n"
     ]
    }
   ],
   "source": [
    "tienda_ropa.buscar_producto(\"camisa\")"
   ]
  },
  {
   "cell_type": "code",
   "execution_count": 11,
   "id": "73dbce21",
   "metadata": {},
   "outputs": [
    {
     "name": "stdout",
     "output_type": "stream",
     "text": [
      "Se ha actualizado el stock de camisa a -3 unidades. Ahora quedan 77 unidades.\n",
      "----------------------\n"
     ]
    }
   ],
   "source": [
    "tienda_ropa.actualizar_stock(\"camisa\", -3)"
   ]
  },
  {
   "cell_type": "code",
   "execution_count": 12,
   "id": "ccc26859",
   "metadata": {},
   "outputs": [
    {
     "name": "stdout",
     "output_type": "stream",
     "text": [
      "Se ha actualizado el inventario y ahora contiene [{'nombre': 'Pantalón', 'precio': 30, 'cantidad': 30}, {'nombre': 'Zapatos', 'precio': 50, 'cantidad': 40}]\n",
      "----------------------\n"
     ]
    }
   ],
   "source": [
    "tienda_ropa.eliminar_producto(\"camisa\")"
   ]
  },
  {
   "cell_type": "code",
   "execution_count": 13,
   "id": "87945d2c",
   "metadata": {},
   "outputs": [
    {
     "name": "stdout",
     "output_type": "stream",
     "text": [
      "El valor total del inventario es:  2900\n",
      "----------------------\n"
     ]
    }
   ],
   "source": [
    "tienda_ropa.calcular_valor_inventario()"
   ]
  },
  {
   "cell_type": "markdown",
   "id": "30ac24cf",
   "metadata": {},
   "source": [
    "# BONUS"
   ]
  },
  {
   "cell_type": "code",
   "execution_count": 15,
   "id": "da3d0959",
   "metadata": {},
   "outputs": [],
   "source": [
    "class TiendaOnline:\n",
    "    def __init__(self):\n",
    "        self.inventario = []\n",
    "        self.ventas_totales = float(0)\n",
    "        self.clientes = {}\n",
    "    \n",
    "    def agregar_producto(self, nombre, precio, cantidad):\n",
    "        for producto in self.inventario:\n",
    "            if producto[\"nombre\"] == nombre:\n",
    "                print(f\"Tenemos\", producto)\n",
    "                producto[\"cantidad\"] += cantidad  # pongo + para añadir cantidad, pero podría ser un - para ventas, o un = para nuevo stock (q habría q modificarlo tb)\n",
    "                print(f\"Ahora tenemos\", producto)\n",
    "                print(\"----------------------\")\n",
    "                break\n",
    "        else: \n",
    "            producto_nuevo = {'nombre': nombre, 'precio': precio, 'cantidad': cantidad} \n",
    "            self.inventario.append(producto_nuevo)\n",
    "            print(\"Ahora tenemos en el inventario\", producto_nuevo)\n",
    "            print(\"----------------------\")\n",
    "\n",
    "    def ver_inventario(self):\n",
    "        for producto in self.inventario: \n",
    "            print(f\"Inventario: Nombre: \", producto[\"nombre\"], \", Precio: \", producto[\"precio\"], \"$, Cantidad: \", producto[\"cantidad\"], \"unidades.\")\n",
    "            print(\"----------------------\")\n",
    "\n",
    "    def buscar_producto(self, nombre):\n",
    "        for producto in self.inventario:\n",
    "            if producto[\"nombre\"] == nombre.title():\n",
    "                print(f\"Tenemos\", nombre)\n",
    "                print(\"----------------------\")\n",
    "                print(f\"En la tienda tenemos Nombre: \", nombre, \", Precio: \", producto[\"precio\"], \"$, Cantidad: \", producto[\"cantidad\"], \"unidades.\") \n",
    "                break\n",
    "        else: \n",
    "            print(f\"No tenemos\", nombre)\n",
    "\n",
    "    def actualizar_stock(self, nombre, cantidad):\n",
    "        for producto in self.inventario:\n",
    "            if producto[\"nombre\"] == nombre.title():\n",
    "                producto[\"cantidad\"] += cantidad # pongo + para añadir cantidad, pero podría ser un - para ventas, o un = para nuevo stock (q habría q modificarlo tb)\n",
    "                print(f\"Se ha actualizado el stock de\", nombre, \"a\", cantidad, \"unidades. Ahora quedan\", producto[\"cantidad\"], \"unidades.\")\n",
    "                print(\"----------------------\")\n",
    "                break\n",
    "        else: \n",
    "            print(f\"No tenemos\", nombre)\n",
    "\n",
    "    def eliminar_producto(self, nombre):\n",
    "        for producto in self.inventario:\n",
    "            if producto[\"nombre\"] == nombre.title():\n",
    "                self.inventario.remove(producto)\n",
    "                print(f\"Se ha actualizado el inventario y ahora contiene\", self.inventario)\n",
    "                print(\"----------------------\")\n",
    "                break\n",
    "        else:    ## le añado un break xa que pare cuando lo encuentr y saco el else para que sólo envíe el \"no tenemos\" si no hay (no en cada vuelta) \n",
    "            print(f\"No tenemos\", nombre)\n",
    "    \n",
    "    def calcular_valor_inventario(self):\n",
    "        valor_inventario = 0\n",
    "        for producto in self.inventario:\n",
    "            valor_producto = producto[\"precio\"]*producto[\"cantidad\"]\n",
    "            valor_inventario += valor_producto\n",
    "        print(f\"El valor total del inventario es: \", valor_inventario)\n",
    "        print(\"----------------------\")\n",
    "    \n",
    "    def agregar_cliente(self, nombre, email):\n",
    "        if nombre in self.clientes:\n",
    "            print(f\"El cliente\", nombre, \"ya está registrado con\", email)\n",
    "        else:\n",
    "            self.clientes[nombre] = email\n",
    "            print(f\"Nuevo cliente agregado:\",nombre, email)\n",
    "            print(\"----------------------\")\n",
    "\n",
    "    def ver_clientes(self):\n",
    "        for nombre in self.clientes:\n",
    "            print(f\"Cliente:\", nombre, \", correo electrónico:\", email)"
   ]
  },
  {
   "cell_type": "code",
   "execution_count": 16,
   "id": "86073dd2",
   "metadata": {},
   "outputs": [
    {
     "name": "stdout",
     "output_type": "stream",
     "text": [
      "Nuevo cliente agregado: Manolo yosoymanolo@gmail.com\n",
      "----------------------\n"
     ]
    }
   ],
   "source": [
    "tienda_ropa = TiendaOnline()\n",
    "tienda_ropa.agregar_cliente(\"Manolo\", \"yosoymanolo@gmail.com\")"
   ]
  },
  {
   "cell_type": "code",
   "execution_count": null,
   "id": "b95d7ead",
   "metadata": {},
   "outputs": [
    {
     "ename": "NameError",
     "evalue": "name 'email' is not defined",
     "output_type": "error",
     "traceback": [
      "\u001b[1;31m---------------------------------------------------------------------------\u001b[0m",
      "\u001b[1;31mNameError\u001b[0m                                 Traceback (most recent call last)",
      "Cell \u001b[1;32mIn[17], line 2\u001b[0m\n\u001b[0;32m      1\u001b[0m \u001b[38;5;66;03m# no tiendendo que falla aqui:\u001b[39;00m\n\u001b[1;32m----> 2\u001b[0m tienda_ropa\u001b[38;5;241m.\u001b[39mver_clientes()\n",
      "Cell \u001b[1;32mIn[15], line 74\u001b[0m, in \u001b[0;36mTiendaOnline.ver_clientes\u001b[1;34m(self)\u001b[0m\n\u001b[0;32m     72\u001b[0m \u001b[38;5;28;01mdef\u001b[39;00m \u001b[38;5;21mver_clientes\u001b[39m(\u001b[38;5;28mself\u001b[39m):\n\u001b[0;32m     73\u001b[0m     \u001b[38;5;28;01mfor\u001b[39;00m nombre \u001b[38;5;129;01min\u001b[39;00m \u001b[38;5;28mself\u001b[39m\u001b[38;5;241m.\u001b[39mclientes:\n\u001b[1;32m---> 74\u001b[0m         \u001b[38;5;28mprint\u001b[39m(\u001b[38;5;124mf\u001b[39m\u001b[38;5;124m\"\u001b[39m\u001b[38;5;124mCliente:\u001b[39m\u001b[38;5;124m\"\u001b[39m, nombre, \u001b[38;5;124m\"\u001b[39m\u001b[38;5;124m, correo electrónico:\u001b[39m\u001b[38;5;124m\"\u001b[39m, email)\n",
      "\u001b[1;31mNameError\u001b[0m: name 'email' is not defined"
     ]
    }
   ],
   "source": [
    "# aqui no me funciona porque :\n",
    "tienda_ropa.ver_clientes()"
   ]
  }
 ],
 "metadata": {
  "kernelspec": {
   "display_name": "base",
   "language": "python",
   "name": "python3"
  },
  "language_info": {
   "codemirror_mode": {
    "name": "ipython",
    "version": 3
   },
   "file_extension": ".py",
   "mimetype": "text/x-python",
   "name": "python",
   "nbconvert_exporter": "python",
   "pygments_lexer": "ipython3",
   "version": "3.12.7"
  }
 },
 "nbformat": 4,
 "nbformat_minor": 5
}
